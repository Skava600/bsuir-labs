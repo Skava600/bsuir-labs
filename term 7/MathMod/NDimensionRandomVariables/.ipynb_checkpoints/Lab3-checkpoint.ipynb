{
 "cells": [
  {
   "cell_type": "markdown",
   "metadata": {},
   "source": [
    "### Имитация систем непрерывных и дискретных случайных величин"
   ]
  },
  {
   "cell_type": "markdown",
   "metadata": {},
   "source": [
    "<img src=\"variant1.png\"/>"
   ]
  },
  {
   "cell_type": "code",
   "execution_count": 63,
   "metadata": {},
   "outputs": [],
   "source": [
    "import sympy as sp\n",
    "import numpy as np\n",
    "import math\n",
    "import random\n",
    "import matplotlib.pyplot as plt\n",
    "import sys\n",
    "from scipy.integrate import quad, dblquad\n",
    "import scipy.stats as st"
   ]
  },
  {
   "cell_type": "code",
   "execution_count": 64,
   "metadata": {},
   "outputs": [
    {
     "name": "stdout",
     "output_type": "stream",
     "text": [
      "Совместная плотность f(x, y)\n"
     ]
    },
    {
     "data": {
      "text/latex": [
       "$\\displaystyle 2 x^{2} + \\frac{2 y}{3}$"
      ],
      "text/plain": [
       "2*x**2 + 2*y/3"
      ]
     },
     "metadata": {},
     "output_type": "display_data"
    }
   ],
   "source": [
    "l_bound = 0\n",
    "r_bound = 1\n",
    "x, y = sp.symbols('x y')\n",
    "f = 2*x**2 + 2*y/3\n",
    "print(\"Совместная плотность f(x, y)\")\n",
    "display(f)"
   ]
  },
  {
   "cell_type": "code",
   "execution_count": 65,
   "metadata": {},
   "outputs": [
    {
     "name": "stdout",
     "output_type": "stream",
     "text": [
      "Одномерный закон распределения f_x: \n"
     ]
    },
    {
     "data": {
      "text/latex": [
       "$\\displaystyle 2 x^{2} + \\frac{1}{3}$"
      ],
      "text/plain": [
       "2*x**2 + 1/3"
      ]
     },
     "metadata": {},
     "output_type": "display_data"
    },
    {
     "name": "stdout",
     "output_type": "stream",
     "text": [
      "Одномерный закон распределения f_y: \n"
     ]
    },
    {
     "data": {
      "text/latex": [
       "$\\displaystyle \\frac{2 y}{3} + \\frac{2}{3}$"
      ],
      "text/plain": [
       "2*y/3 + 2/3"
      ]
     },
     "metadata": {},
     "output_type": "display_data"
    }
   ],
   "source": [
    "fx = sp.integrate(f, (y, l_bound, r_bound))\n",
    "fy = sp.integrate(f, (x, l_bound, r_bound))\n",
    "print('Одномерный закон распределения f_x: ')\n",
    "display(fx)\n",
    "print('Одномерный закон распределения f_y: ')\n",
    "display(fy)"
   ]
  },
  {
   "cell_type": "markdown",
   "metadata": {},
   "source": [
    "### Проверка состовляющих двумерной НСВ на независимость. "
   ]
  },
  {
   "cell_type": "markdown",
   "metadata": {},
   "source": [
    "Для того чтобы X и Y были независимы, необходимо и достаточно, чтобы плотность совместного распределения f(x,y) была равна произведению плотностей распределения состовляющих"
   ]
  },
  {
   "cell_type": "code",
   "execution_count": 66,
   "metadata": {},
   "outputs": [
    {
     "name": "stdout",
     "output_type": "stream",
     "text": [
      "f(x,y) не равное f(x)*f(y) => X и Y зависимы\n"
     ]
    }
   ],
   "source": [
    "mult = fx * fy\n",
    "if mult == f:\n",
    "    print(\"f(x,y) равное f(x)*f(y) => X и Y независимы\")\n",
    "else:\n",
    "    print(\"f(x,y) не равное f(x)*f(y) => X и Y зависимы\")"
   ]
  },
  {
   "cell_type": "markdown",
   "metadata": {},
   "source": [
    "### Условные плотности распределения"
   ]
  },
  {
   "cell_type": "code",
   "execution_count": 67,
   "metadata": {},
   "outputs": [
    {
     "name": "stdout",
     "output_type": "stream",
     "text": [
      "Условная плотность f(x/y): \n"
     ]
    },
    {
     "data": {
      "text/latex": [
       "$\\displaystyle \\frac{2 x^{2} + \\frac{2 y}{3}}{\\frac{2 y}{3} + \\frac{2}{3}}$"
      ],
      "text/plain": [
       "(2*x**2 + 2*y/3)/(2*y/3 + 2/3)"
      ]
     },
     "metadata": {},
     "output_type": "display_data"
    },
    {
     "name": "stdout",
     "output_type": "stream",
     "text": [
      "Условная плотность f(y/x): \n"
     ]
    },
    {
     "data": {
      "text/latex": [
       "$\\displaystyle \\frac{2 x^{2} + \\frac{2 y}{3}}{2 x^{2} + \\frac{1}{3}}$"
      ],
      "text/plain": [
       "(2*x**2 + 2*y/3)/(2*x**2 + 1/3)"
      ]
     },
     "metadata": {},
     "output_type": "display_data"
    }
   ],
   "source": [
    "f_xy = f / fy\n",
    "f_yx = f / fx\n",
    "\n",
    "print(\"Условная плотность f(x/y): \")\n",
    "display(f_xy)\n",
    "print(\"Условная плотность f(y/x): \")\n",
    "display(f_yx)"
   ]
  },
  {
   "cell_type": "markdown",
   "metadata": {},
   "source": [
    "### Построение гистограмм состовляющих двумерной НСВ и графиков их плотностей распределения в одной системе координат"
   ]
  },
  {
   "cell_type": "code",
   "execution_count": 68,
   "metadata": {},
   "outputs": [],
   "source": [
    "def fxy(x, y):\n",
    "    return 2 * (x**2 + y / 3)\n",
    "def fx(x):\n",
    "    return 2 * x**2 + 1 / 3\n",
    "\n",
    "def fy(y):\n",
    "    return 2 * y / 3 + 2 / 3"
   ]
  },
  {
   "cell_type": "code",
   "execution_count": 69,
   "metadata": {},
   "outputs": [],
   "source": [
    "f_max = fxy(1,1)"
   ]
  },
  {
   "cell_type": "code",
   "execution_count": 70,
   "metadata": {},
   "outputs": [],
   "source": [
    "def neuman_method(N, a, b, f_max):\n",
    "    x_, y_ = [], []\n",
    "    for i in range(N):\n",
    "        while True:\n",
    "            x, y = a + random.random() * (b - a), a + random.random() * (b - a)\n",
    "            z = random.random() * f_max\n",
    "            \n",
    "            if fxy(x, y) > z:\n",
    "                x_.append(x)\n",
    "                y_.append(y)\n",
    "                break\n",
    "    return x_, y_"
   ]
  },
  {
   "cell_type": "code",
   "execution_count": 71,
   "metadata": {},
   "outputs": [],
   "source": [
    "x, y = neuman_method(1000, l_bound, r_bound, f_max)"
   ]
  },
  {
   "cell_type": "code",
   "execution_count": 72,
   "metadata": {
    "scrolled": true
   },
   "outputs": [
    {
     "data": {
      "image/png": "[encoded data removed]",
      "text/plain": [
       "<Figure size 432x288 with 1 Axes>"
      ]
     },
     "metadata": {
      "needs_background": "light"
     },
     "output_type": "display_data"
    }
   ],
   "source": [
    "x_ = np.linspace(l_bound, r_bound, 1000)\n",
    "fx_x = [fx(x_) for x_ in x_]\n",
    "plt.hist(x, density=True)\n",
    "plt.plot(x_, fx_x)\n",
    "plt.show()"
   ]
  },
  {
   "cell_type": "code",
   "execution_count": 73,
   "metadata": {},
   "outputs": [
    {
     "data": {
      "image/png": "[encoded data removed]",
      "text/plain": [
       "<Figure size 432x288 with 1 Axes>"
      ]
     },
     "metadata": {
      "needs_background": "light"
     },
     "output_type": "display_data"
    }
   ],
   "source": [
    "y_ = np.linspace(l_bound, r_bound, 1000)\n",
    "fy_y = [fy(y_) for y_ in y_]\n",
    "plt.hist(y, density=True)\n",
    "plt.plot(y_, fy_y)\n",
    "plt.show()"
   ]
  },
  {
   "cell_type": "markdown",
   "metadata": {},
   "source": [
    "Метод Неймана является методом, позволяющим получить СВ в соответствии с заданным законом распределения. Применим для СВ, значения которых не выходят за пределы ограниченного интервала."
   ]
  },
  {
   "cell_type": "markdown",
   "metadata": {},
   "source": [
    "### Теоретические характеристики"
   ]
  },
  {
   "cell_type": "code",
   "execution_count": 74,
   "metadata": {},
   "outputs": [],
   "source": [
    "def xfx(x):\n",
    "    return x * fx(x)\n",
    "def yfy(y):\n",
    "    return y * fy(y)\n",
    "def x2fx(x):\n",
    "    return x ** 2 * fx(x)\n",
    "def y2fy(y):\n",
    "    return y ** 2 * fy(y)\n",
    "def xyfxy(x, y):\n",
    "    return x * y * fxy(x, y)"
   ]
  },
  {
   "cell_type": "code",
   "execution_count": 75,
   "metadata": {},
   "outputs": [],
   "source": [
    "Mx = quad(xfx, l_bound, r_bound)[0]\n",
    "My = quad(yfy, l_bound, r_bound)[0]\n",
    "Dx = quad(x2fx, l_bound, r_bound)[0] - Mx ** 2\n",
    "Dy = quad(y2fy, l_bound, r_bound)[0] - My ** 2\n",
    "Mxy = dblquad(xyfxy, l_bound, r_bound, lambda x: l_bound, lambda x: r_bound)[0]\n",
    "Rxy = (Mxy - Mx * My) / math.sqrt(Dx * Dy)"
   ]
  },
  {
   "cell_type": "code",
   "execution_count": 76,
   "metadata": {},
   "outputs": [
    {
     "name": "stdout",
     "output_type": "stream",
     "text": [
      "Теоретическое M[x] 0.6666666666666666\n",
      "Теоретическое M[y] 0.5555555555555556\n",
      "Теоретическая D[x] 0.06666666666666676\n",
      "Теоретическая D[y] 0.08024691358024694\n",
      "Теоретическая корреляция -0.12659242088545727\n"
     ]
    }
   ],
   "source": [
    "print('Теоретическое M[x]', Mx)\n",
    "print('Теоретическое M[y]', My)\n",
    "print('Теоретическая D[x]', Dx)\n",
    "print('Теоретическая D[y]', Dy)\n",
    "print('Теоретическая корреляция', Rxy)"
   ]
  },
  {
   "cell_type": "markdown",
   "metadata": {},
   "source": [
    "Так как коэффициент корреляции не равен нулю, то составляющие X и Y являются зависимыми"
   ]
  },
  {
   "cell_type": "markdown",
   "metadata": {},
   "source": [
    "### Точечные характеристики"
   ]
  },
  {
   "cell_type": "code",
   "execution_count": 77,
   "metadata": {},
   "outputs": [],
   "source": [
    "def stat_mean(x):\n",
    "    return sum(x) / len(x)"
   ]
  },
  {
   "cell_type": "code",
   "execution_count": 78,
   "metadata": {},
   "outputs": [],
   "source": [
    "def stat_variance(x, mean):\n",
    "    return sum((_x - mean) ** 2 for _x in x) / len(x)"
   ]
  },
  {
   "cell_type": "markdown",
   "metadata": {},
   "source": [
    "Статистическая оценка вычесляется по формуле:\n",
    "<img src=\"rxy.png\"/>"
   ]
  },
  {
   "cell_type": "code",
   "execution_count": 79,
   "metadata": {},
   "outputs": [],
   "source": [
    "def stat_correlation(x, y, Mx, My):\n",
    "    numerator = sum((_x - Mx) * (_y - My) for _x, _y in zip(x, y))\n",
    "    sum_x2 = sum((_x - Mx) ** 2 for _x in x)\n",
    "    sum_y2 = sum((_y - My) ** 2 for _y in y)\n",
    "    return numerator / np.sqrt(sum_x2 * sum_y2)"
   ]
  },
  {
   "cell_type": "code",
   "execution_count": 80,
   "metadata": {},
   "outputs": [
    {
     "name": "stdout",
     "output_type": "stream",
     "text": [
      "Точечная оценка M[x]:  0.6652752674155692\n",
      "Точечная оценка M[y]:  0.5527369513457332\n",
      "Точечная оценка D[x]:  0.06631201573403259\n",
      "Точечная оценка D[y]:  0.08349387760111841\n",
      "Точечная оценка коэффициента корреляции:  -0.10492863489682498\n"
     ]
    }
   ],
   "source": [
    "print(\"Точечная оценка M[x]: \",stat_mean(x))\n",
    "print(\"Точечная оценка M[y]: \",stat_mean(y))\n",
    "print(\"Точечная оценка D[x]: \",stat_variance(x, stat_mean(x)))\n",
    "print(\"Точечная оценка D[y]: \",stat_variance(y, stat_mean(y)))\n",
    "print(\"Точечная оценка коэффициента корреляции: \",stat_correlation(x, y, stat_mean(x), stat_mean(y)))"
   ]
  },
  {
   "cell_type": "markdown",
   "metadata": {},
   "source": [
    "### Интервальные оценки"
   ]
  },
  {
   "cell_type": "code",
   "execution_count": 81,
   "metadata": {},
   "outputs": [],
   "source": [
    "alpha = 0.96\n",
    "\n",
    "#Стандартное отклонение\n",
    "def sem(x, s2):\n",
    "    return np.sqrt(s2 / len(x))\n",
    "\n",
    "# Исправленная выборочная дисперсия\n",
    "def s2(x, Mx):\n",
    "    return sum((_x - Mx) ** 2 for _x in x) / (len(x) - 1)\n",
    "\n",
    "def ci_mean(x, alpha):\n",
    "    m = stat_mean(x)\n",
    "    se = sem(x, s2(x, m))\n",
    "    return m - alpha * se, m + alpha * se\n",
    "\n",
    "def ci_variance(x, alpha):\n",
    "    a = (1 - alpha) / 2\n",
    "    n = len(x)\n",
    "    _s2 = s2(x, stat_mean(x))\n",
    "    left = (n - 1) * _s2 / st.chi2.ppf(1 - a, df=n - 1)\n",
    "    right = (n - 1) * _s2 / st.chi2.ppf(a, df=n - 1)\n",
    "    return left, right\n",
    "\n",
    "def z_to_r(z): \n",
    "#Преобразование z-оценки обратно в r-значение \n",
    "    return (np.exp(z*2) - 1) / (np.exp(z*2) + 1) \n",
    " \n",
    "def interval(x,y, alpha): \n",
    "    r = st.pearsonr(x,y)[0] \n",
    "    zr = 0.5 * np.log((1 + r) / (1 - r))  \n",
    "    crit = st.norm.ppf(1-alpha/2) \n",
    "    sez = 1 / np.sqrt(len(x) - 3) \n",
    "    return (z_to_r(zr - (crit * sez))), (z_to_r(zr + (crit * sez))) "
   ]
  },
  {
   "cell_type": "code",
   "execution_count": 82,
   "metadata": {},
   "outputs": [
    {
     "name": "stdout",
     "output_type": "stream",
     "text": [
      "Доверительный интервал МО: \n",
      "M[x]=  (0.6574538654933744, 0.673096669337764)\n",
      "M[y]=  (0.5439605635591908, 0.5615133391322756)\n",
      "Доверительный интервал дисперсии: \n",
      "D[x]=  (0.06067354777686606, 0.07292174379567612)\n",
      "D[y]=  (0.0763944470037783, 0.0918162279270234)\n",
      "Доверительный интервал для коэф. корреляции: (-0.16873000985954612, -0.04025164744506299)\n"
     ]
    }
   ],
   "source": [
    "print('Доверительный интервал МО: ')\n",
    "print('M[x]= ', ci_mean(x, alpha))\n",
    "print('M[y]= ', ci_mean(y, alpha))\n",
    "print('Доверительный интервал дисперсии: ')\n",
    "print('D[x]= ', ci_variance(x, alpha))\n",
    "print('D[y]= ', ci_variance(y, alpha))\n",
    "print(f'Доверительный интервал для коэф. корреляции: {interval(x, y, 0.04)}')\n"
   ]
  },
  {
   "cell_type": "markdown",
   "metadata": {},
   "source": [
    "## Задание 2\n",
    "### Метод формирование двумерной ДСВ\n"
   ]
  },
  {
   "cell_type": "code",
   "execution_count": 47,
   "metadata": {},
   "outputs": [],
   "source": [
    "import numpy as np\n",
    "import math\n",
    "import random\n",
    "import matplotlib.pyplot as plt\n",
    "import sys\n",
    "import csv\n",
    "from matplotlib import cm\n",
    "from random import random\n",
    "from scipy import integrate\n",
    "from scipy import stats"
   ]
  },
  {
   "cell_type": "code",
   "execution_count": 48,
   "metadata": {},
   "outputs": [],
   "source": [
    "def generate_dsv(x, y, P):\n",
    "    n, m = len(x), len(y)\n",
    "    q = [sum(P[:, i]) for i in range(n)]\n",
    "    Fx = [sum(q[:k + 1]) for k in range(n)]\n",
    "\n",
    "    x_i = 0\n",
    "    e = random()\n",
    "    while e > Fx[x_i]:\n",
    "        x_i += 1\n",
    "    \n",
    "\n",
    "    Fy = [sum(P[:k + 1, x_i]) for k in range(m)]\n",
    "    \n",
    "\n",
    "    y_i = 0\n",
    "    e = random() * max(Fy)\n",
    "    while e > Fy[y_i]:\n",
    "        y_i += 1\n",
    "        \n",
    "    return x[x_i], y[y_i]"
   ]
  },
  {
   "cell_type": "markdown",
   "metadata": {},
   "source": [
    "<img src=\"check.png\"/>"
   ]
  },
  {
   "cell_type": "code",
   "execution_count": 49,
   "metadata": {},
   "outputs": [
    {
     "name": "stdout",
     "output_type": "stream",
     "text": [
      "Сумма элементов матрицы:  1.0\n",
      "Матрица распределения ДСВ задана успешно! Продолжаем работу\n"
     ]
    },
    {
     "data": {
      "text/plain": [
       "(5, 7)"
      ]
     },
     "execution_count": 49,
     "metadata": {},
     "output_type": "execute_result"
    }
   ],
   "source": [
    "x = [1, 2, 3, 4, 5]\n",
    "y = [6, 7, 8, 9, 10]\n",
    "\n",
    "n = len(x)\n",
    "m = len(y)\n",
    "\n",
    "P = np.array(\n",
    "    [[0.05, 0.01, 0.05, 0.03, 0.10],\n",
    "     [0.09, 0.03, 0.06, 0.14, 0.04],\n",
    "     [0.05, 0.01, 0.03, 0.01, 0.05],\n",
    "     [0.03, 0.01, 0.01, 0.03, 0.04],\n",
    "     [0.04, 0.03, 0.03, 0.02, 0.01]])\n",
    "\n",
    "print(\"Сумма элементов матрицы: \",np.sum(P))\n",
    "if round(np.sum(P), 3) != 1.000:\n",
    "    print(\"Матрица распределения ДСВ задана неверно! Дальнейшая работа невозможна\")\n",
    "    sys.exit()\n",
    "else:\n",
    "    print(\"Матрица распределения ДСВ задана успешно! Продолжаем работу\")\n",
    "    \n",
    "generate_dsv(x, y, P)"
   ]
  },
  {
   "cell_type": "code",
   "execution_count": 50,
   "metadata": {},
   "outputs": [],
   "source": [
    "N = 10000\n",
    "\n",
    "x_values = []\n",
    "y_values = [] \n",
    "\n",
    "for _ in range(N):\n",
    "    _x, _y = generate_dsv(x, y, P)\n",
    "    x_values.append(_x)\n",
    "    y_values.append(_y)"
   ]
  },
  {
   "cell_type": "code",
   "execution_count": 51,
   "metadata": {},
   "outputs": [],
   "source": [
    "p_x = [sum(P[:, i]) for i in range(n)]\n",
    "p_y = [sum(P[j, :]) for j in range(m)]\n",
    "\n",
    "p_x_imp = [x_values.count(_x) / N for _x in x]\n",
    "p_y_imp = [y_values.count(_y) / N for _y in y]"
   ]
  },
  {
   "cell_type": "code",
   "execution_count": 52,
   "metadata": {},
   "outputs": [
    {
     "name": "stdout",
     "output_type": "stream",
     "text": [
      "[0.26, 0.09, 0.18000000000000002, 0.23, 0.24000000000000002]\n",
      "[0.2582, 0.0891, 0.1845, 0.2287, 0.2395]\n",
      "\n",
      "[0.24000000000000002, 0.36, 0.15, 0.12, 0.13]\n",
      "[0.2431, 0.3621, 0.146, 0.1183, 0.1305]\n",
      "\n"
     ]
    }
   ],
   "source": [
    "print(f\"{p_x}\\n{p_x_imp}\\n\")\n",
    "print(f\"{p_y}\\n{p_y_imp}\\n\")"
   ]
  },
  {
   "cell_type": "markdown",
   "metadata": {},
   "source": [
    "### Проверка на независимость составляющих ДСВ"
   ]
  },
  {
   "cell_type": "markdown",
   "metadata": {},
   "source": [
    "<img src=\"nezavisim.png\"/>"
   ]
  },
  {
   "cell_type": "code",
   "execution_count": 53,
   "metadata": {},
   "outputs": [
    {
     "name": "stdout",
     "output_type": "stream",
     "text": [
      "X, Y зависимы\n",
      "0.05 != 0.062400000000000004\n"
     ]
    }
   ],
   "source": [
    "def independence(P, p_x, p_y): \n",
    "    for i in range(len(p_x)):\n",
    "        for j in range(len(p_y)):\n",
    "            if P[i][j] != p_x[i] * p_y[j]:\n",
    "                print('X, Y зависимы')\n",
    "                print(f'{P[i][j]} != {p_x[i]*p_y[j]}')\n",
    "                return\n",
    "    print('X, Y независимы')\n",
    "\n",
    "independence(P, p_x, p_y)"
   ]
  },
  {
   "cell_type": "markdown",
   "metadata": {},
   "source": [
    "### Условные вероятности"
   ]
  },
  {
   "cell_type": "markdown",
   "metadata": {},
   "source": [
    "<img src=\"uslovn.png\"/>"
   ]
  },
  {
   "cell_type": "code",
   "execution_count": 54,
   "metadata": {},
   "outputs": [
    {
     "name": "stdout",
     "output_type": "stream",
     "text": [
      "P(Y|X)\n",
      " [[0.19230769 0.11111111 0.27777778 0.13043478 0.41666667]\n",
      " [0.34615385 0.33333333 0.33333333 0.60869565 0.16666667]\n",
      " [0.19230769 0.11111111 0.16666667 0.04347826 0.20833333]\n",
      " [0.11538462 0.11111111 0.05555556 0.13043478 0.16666667]\n",
      " [0.15384615 0.33333333 0.16666667 0.08695652 0.04166667]]\n",
      "P(X|Y)\n",
      " [[0.20833333 0.04166667 0.20833333 0.125      0.41666667]\n",
      " [0.25       0.08333333 0.16666667 0.38888889 0.11111111]\n",
      " [0.33333333 0.06666667 0.2        0.06666667 0.33333333]\n",
      " [0.25       0.08333333 0.08333333 0.25       0.33333333]\n",
      " [0.30769231 0.23076923 0.23076923 0.15384615 0.07692308]]\n"
     ]
    }
   ],
   "source": [
    "p_yx = np.copy(P)\n",
    "for i in range(n):\n",
    "    for j in range(m):\n",
    "        p_yx[j, i] /= p_x[i]\n",
    "\n",
    "print(\"P(Y|X)\\n\", p_yx)\n",
    "\n",
    "\n",
    "p_xy = np.copy(P)\n",
    "for i in range(n):\n",
    "    for j in range(m):\n",
    "        p_xy[j, i] /= p_y[j]\n",
    "    \n",
    "print(\"P(X|Y)\\n\", p_xy)"
   ]
  },
  {
   "cell_type": "markdown",
   "metadata": {},
   "source": [
    "### Построение диаграмм ДСВ"
   ]
  },
  {
   "cell_type": "code",
   "execution_count": 55,
   "metadata": {},
   "outputs": [
    {
     "data": {
      "image/png": "[encoded data removed]",
      "text/plain": [
       "<Figure size 432x288 with 1 Axes>"
      ]
     },
     "metadata": {
      "needs_background": "light"
     },
     "output_type": "display_data"
    }
   ],
   "source": [
    "plt.hist(x_values, weights=[1/N]*N)\n",
    "plt.plot(x, p_x) \n",
    "plt.hist(y_values, weights=[1/N]*N)\n",
    "plt.plot(y, p_y)\n",
    "plt.show()"
   ]
  },
  {
   "cell_type": "markdown",
   "metadata": {},
   "source": [
    "### Числовые характеристики"
   ]
  },
  {
   "cell_type": "code",
   "execution_count": 56,
   "metadata": {},
   "outputs": [],
   "source": [
    "alpha = 0.99\n",
    "\n",
    "def discrete_mean(x, p_x):\n",
    "    return sum([x[i] * p_x[i] for i in range(len(x))])\n",
    "\n",
    "def discrete_variate(x, p_x, M):\n",
    "    return sum([(x[i] ** 2) * p_x[i] for i in range(len(x))]) - M ** 2\n",
    "\n",
    "#Стандартное отклонение\n",
    "def sem(x, s2):\n",
    "    return np.sqrt(s2 / len(x))\n",
    "\n",
    "# Исправленная выборочная дисперсия\n",
    "def s2(x, Mx):\n",
    "    return sum((_x - Mx) ** 2 for _x in x) / (len(x) - 1)\n",
    "\n",
    "def ci_mean(x, alpha):\n",
    "    m = stat_mean(x)\n",
    "    se = sem(x, s2(x, m))\n",
    "    return m - alpha * se, m + alpha * se\n",
    "\n",
    "def ci_variance(x, alpha):\n",
    "    a = (1 - alpha) / 2\n",
    "    n = len(x)\n",
    "    _s2 = s2(x, stat_mean(x))\n",
    "    left = (n - 1) * _s2 / stats.chi2.ppf(1 - a, df=n - 1)\n",
    "    right = (n - 1) * _s2 / stats.chi2.ppf(a, df=n - 1)\n",
    "    return left, right"
   ]
  },
  {
   "cell_type": "code",
   "execution_count": 57,
   "metadata": {},
   "outputs": [
    {
     "name": "stdout",
     "output_type": "stream",
     "text": [
      "Теоретическое значение m[x] 3.1\n",
      "Теоретическое значение m[y] 7.54\n",
      "Теоретическое значение D[y] 1.7484000000000037\n",
      "Теоретическое значение D[x] 2.3100000000000005\n",
      "Теоретическое значение коэффициента корреляции -0.1512680452353972\n"
     ]
    }
   ],
   "source": [
    "Mx = discrete_mean(x, p_x)\n",
    "My = discrete_mean(y, p_y)\n",
    "Dx = discrete_variate(x, p_x, Mx)\n",
    "Dy = discrete_variate(y, p_y, My)\n",
    "Mxy = sum([sum([x * y * P[j, i] for j, y in enumerate(y)]) for i, x in enumerate(x)])\n",
    "correlation = (Mxy - Mx * My) / np.sqrt(Dx * Dy)\n",
    "\n",
    "print('Теоретическое значение m[x]', Mx)\n",
    "print('Теоретическое значение m[y]', My)\n",
    "print('Теоретическое значение D[y]', Dy)\n",
    "print('Теоретическое значение D[x]', Dx)\n",
    "print('Теоретическое значение коэффициента корреляции', correlation)"
   ]
  },
  {
   "cell_type": "code",
   "execution_count": 58,
   "metadata": {},
   "outputs": [
    {
     "name": "stdout",
     "output_type": "stream",
     "text": [
      "Точечная оценка m[y] 7.531000000000001\n",
      "Точечная оценка m[x] 3.1022\n",
      "Точечная оценка D[y] 1.7548389999999898\n",
      "Точечная оценка D[x] 2.298155160000002\n",
      "Точечная оценка коэффициента корреляции -0.16485766919125516\n"
     ]
    }
   ],
   "source": [
    "Mx_imp = discrete_mean(x, p_x_imp)\n",
    "My_imp = discrete_mean(y, p_y_imp)\n",
    "Dx_imp = discrete_variate(x, p_x_imp, Mx_imp)\n",
    "Dy_imp = discrete_variate(y, p_y_imp, My_imp)\n",
    "corr_imp = stat_correlation(x_values, y_values, Mx_imp, My_imp)\n",
    "\n",
    "print('Точечная оценка m[y]', My_imp)\n",
    "print('Точечная оценка m[x]', Mx_imp)\n",
    "print('Точечная оценка D[y]', Dy_imp)\n",
    "print('Точечная оценка D[x]', Dx_imp)\n",
    "print('Точечная оценка коэффициента корреляции', corr_imp)"
   ]
  },
  {
   "cell_type": "code",
   "execution_count": 59,
   "metadata": {},
   "outputs": [
    {
     "name": "stdout",
     "output_type": "stream",
     "text": [
      "Доверительный интервал мат. ожидания X (3.087191178803684, 3.1172088211963156)\n",
      "Доверительный интервал мат. ожидания Y (7.517884780928739, 7.54411521907126)\n",
      "Доверительный интервал дисперсии X (2.2167954766381657, 2.384349836600727)\n",
      "Доверительный интервал дисперсии Y (1.6927138885734279, 1.8206560443512716)\n",
      "Доверительный интервал коэффициента корреляции (-0.1649796133062982, -0.164735720036068)\n"
     ]
    }
   ],
   "source": [
    "print('Доверительный интервал мат. ожидания X', ci_mean(x_values, alpha))\n",
    "print('Доверительный интервал мат. ожидания Y', ci_mean(y_values, alpha))\n",
    "print('Доверительный интервал дисперсии X', ci_variance(x_values, alpha))\n",
    "print('Доверительный интервал дисперсии Y', ci_variance(y_values, alpha))\n",
    "print('Доверительный интервал коэффициента корреляции', ci_correlation(x_values, y_values, alpha))"
   ]
  },
  {
   "cell_type": "code",
   "execution_count": 61,
   "metadata": {},
   "outputs": [
    {
     "name": "stdout",
     "output_type": "stream",
     "text": [
      "Коэффициент корреляции R[xy]:  -0.1512680452353972\n",
      "R[xy] != 0 => зависимы\n"
     ]
    }
   ],
   "source": [
    "print(\"Коэффициент корреляции R[xy]: \", correlation)\n",
    "print(\"R[xy] != 0 => зависимы\")"
   ]
  },
  {
   "cell_type": "code",
   "execution_count": null,
   "metadata": {},
   "outputs": [],
   "source": []
  }
 ],
 "metadata": {
  "kernelspec": {
   "display_name": "Python 3",
   "language": "python",
   "name": "python3"
  },
  "language_info": {
   "codemirror_mode": {
    "name": "ipython",
    "version": 3
   },
   "file_extension": ".py",
   "mimetype": "text/x-python",
   "name": "python",
   "nbconvert_exporter": "python",
   "pygments_lexer": "ipython3",
   "version": "3.7.4"
  }
 },
 "nbformat": 4,
 "nbformat_minor": 2
}
